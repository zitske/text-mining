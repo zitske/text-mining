{
 "cells": [
  {
   "cell_type": "markdown",
   "metadata": {},
   "source": [
    "# Carregamento dos dados\n",
    "Vamos carregar os dados dos textos das notícias. Essas notícias são referentes ao ano de 2017 e estão distribuídas dentre 6 categorias diferentes, conforme consta na análise preliminar a seguir."
   ]
  },
  {
   "cell_type": "code",
   "execution_count": 223,
   "metadata": {},
   "outputs": [
    {
     "data": {
      "text/html": [
       "<div>\n",
       "<style scoped>\n",
       "    .dataframe tbody tr th:only-of-type {\n",
       "        vertical-align: middle;\n",
       "    }\n",
       "\n",
       "    .dataframe tbody tr th {\n",
       "        vertical-align: top;\n",
       "    }\n",
       "\n",
       "    .dataframe thead th {\n",
       "        text-align: right;\n",
       "    }\n",
       "</style>\n",
       "<table border=\"1\" class=\"dataframe\">\n",
       "  <thead>\n",
       "    <tr style=\"text-align: right;\">\n",
       "      <th></th>\n",
       "      <th>link</th>\n",
       "      <th>categ</th>\n",
       "      <th>texto</th>\n",
       "    </tr>\n",
       "  </thead>\n",
       "  <tbody>\n",
       "    <tr>\n",
       "      <th>0</th>\n",
       "      <td>http://g1.globo.com/sp/ribeirao-preto-franca/n...</td>\n",
       "      <td>agro</td>\n",
       "      <td>O presidente Michel Temer (PMDB) e o ministro ...</td>\n",
       "    </tr>\n",
       "    <tr>\n",
       "      <th>1</th>\n",
       "      <td>http://g1.globo.com/economia/agronegocios/noti...</td>\n",
       "      <td>agro</td>\n",
       "      <td>O presidente Michel Temer desembarca em Ribeir...</td>\n",
       "    </tr>\n",
       "    <tr>\n",
       "      <th>2</th>\n",
       "      <td>http://g1.globo.com/economia/agronegocios/noti...</td>\n",
       "      <td>agro</td>\n",
       "      <td>O presidente Michel Temer afirmou nesta segund...</td>\n",
       "    </tr>\n",
       "    <tr>\n",
       "      <th>3</th>\n",
       "      <td>http://g1.globo.com/economia/agronegocios/noti...</td>\n",
       "      <td>agro</td>\n",
       "      <td>A produção de açúcar e etanol do centro-sul do...</td>\n",
       "    </tr>\n",
       "    <tr>\n",
       "      <th>4</th>\n",
       "      <td>http://g1.globo.com/economia/agronegocios/noti...</td>\n",
       "      <td>agro</td>\n",
       "      <td>Os preços do etanol hidratado nos postos brasi...</td>\n",
       "    </tr>\n",
       "  </tbody>\n",
       "</table>\n",
       "</div>"
      ],
      "text/plain": [
       "                                                link categ  \\\n",
       "0  http://g1.globo.com/sp/ribeirao-preto-franca/n...  agro   \n",
       "1  http://g1.globo.com/economia/agronegocios/noti...  agro   \n",
       "2  http://g1.globo.com/economia/agronegocios/noti...  agro   \n",
       "3  http://g1.globo.com/economia/agronegocios/noti...  agro   \n",
       "4  http://g1.globo.com/economia/agronegocios/noti...  agro   \n",
       "\n",
       "                                               texto  \n",
       "0  O presidente Michel Temer (PMDB) e o ministro ...  \n",
       "1  O presidente Michel Temer desembarca em Ribeir...  \n",
       "2  O presidente Michel Temer afirmou nesta segund...  \n",
       "3  A produção de açúcar e etanol do centro-sul do...  \n",
       "4  Os preços do etanol hidratado nos postos brasi...  "
      ]
     },
     "execution_count": 223,
     "metadata": {},
     "output_type": "execute_result"
    }
   ],
   "source": [
    "dados_noticias = pd.read_csv('textos.csv', sep=';')\n",
    "dados_noticias.head(5)"
   ]
  },
  {
   "cell_type": "code",
   "execution_count": 224,
   "metadata": {},
   "outputs": [
    {
     "data": {
      "text/html": [
       "<div>\n",
       "<style scoped>\n",
       "    .dataframe tbody tr th:only-of-type {\n",
       "        vertical-align: middle;\n",
       "    }\n",
       "\n",
       "    .dataframe tbody tr th {\n",
       "        vertical-align: top;\n",
       "    }\n",
       "\n",
       "    .dataframe thead th {\n",
       "        text-align: right;\n",
       "    }\n",
       "</style>\n",
       "<table border=\"1\" class=\"dataframe\">\n",
       "  <thead>\n",
       "    <tr style=\"text-align: right;\">\n",
       "      <th></th>\n",
       "      <th>link</th>\n",
       "      <th>categ</th>\n",
       "      <th>texto</th>\n",
       "    </tr>\n",
       "  </thead>\n",
       "  <tbody>\n",
       "    <tr>\n",
       "      <th>count</th>\n",
       "      <td>650</td>\n",
       "      <td>650</td>\n",
       "      <td>636</td>\n",
       "    </tr>\n",
       "    <tr>\n",
       "      <th>unique</th>\n",
       "      <td>642</td>\n",
       "      <td>6</td>\n",
       "      <td>624</td>\n",
       "    </tr>\n",
       "    <tr>\n",
       "      <th>top</th>\n",
       "      <td>http://g1.globo.com/bemestar/noticia/desafio-d...</td>\n",
       "      <td>ciencia-e-saude</td>\n",
       "      <td>A página que você tentou acessar não existe ou...</td>\n",
       "    </tr>\n",
       "    <tr>\n",
       "      <th>freq</th>\n",
       "      <td>2</td>\n",
       "      <td>146</td>\n",
       "      <td>5</td>\n",
       "    </tr>\n",
       "  </tbody>\n",
       "</table>\n",
       "</div>"
      ],
      "text/plain": [
       "                                                     link            categ  \\\n",
       "count                                                 650              650   \n",
       "unique                                                642                6   \n",
       "top     http://g1.globo.com/bemestar/noticia/desafio-d...  ciencia-e-saude   \n",
       "freq                                                    2              146   \n",
       "\n",
       "                                                    texto  \n",
       "count                                                 636  \n",
       "unique                                                624  \n",
       "top     A página que você tentou acessar não existe ou...  \n",
       "freq                                                    5  "
      ]
     },
     "execution_count": 224,
     "metadata": {},
     "output_type": "execute_result"
    }
   ],
   "source": [
    "dados_noticias.describe()"
   ]
  },
  {
   "cell_type": "code",
   "execution_count": 182,
   "metadata": {},
   "outputs": [
    {
     "data": {
      "text/plain": [
       "'O presidente Michel Temer (PMDB) e o ministro interino da Agricultura, Eumar Novacki, confirmaram nesta quinta-feira (19) a liberação de um pré-custeio de R$ 12 bilhões para beneficiar produtores rurais na safra 2017/2018.\\n\\nO valor da linha de crédito, que já tinha sido antecipado à imprensa esta semana, é 16,5% superior ao anunciado no período anterior, quando foram concedidos R$ 10 bilhões. A taxa de juros, no entanto, também é maior em relação ao que foi concedido um ano antes, ainda no governo Dilma Rousseff, e chega a 9,5% ao ano.\\n\\n\"A agricultura e o agronegócio vão tão bem, são tão sustentadores do país, que só precisa de financiamento. É o que estamos fazendo nesse momento\", afirmou Temer durante evento no Instituto Agronômico de Campinas (IAC), em Ribeirão Preto (SP).\\n\\nDiante de autoridades como o governador de São Paulo, Geraldo Alckmin (PSDB), ele também falou que o \\'está começando a sair da recessão\\'.\\n\\nDurante o anúncio, um grupo de 20 manifestantes do Movimento dos Trabalhadores Rurais Sem Terra (MST) fez um protesto, mas não houve tumulto.\\n\\nPré-custeio\\n\\n Viabilizado por meio de uma linha de crédito do Banco do Brasil, o pré-custeio, que antecede o Plano Safra 2017/2018, previsto para ser lançado em maio, visa auxiliar produtores no planejamento e na aquisição de insumos como máquinas, sementes, fertilizantes e pesticidas no início deste ano. Projeção do IBGE aponta uma produção de 213,7 milhões de toneladas de grãos em 2017, o que representa uma alta de 16,1% em relação ao ano passado.\\n\\nOs juros anunciados pela União serão de 8,5% ao ano para um crédito de até R$ 780 mil por meio do Programa Nacional de Apoio aos Médios Produtores Rurais (Pronamp) e de 9,5% para a obtenção de até R$ 1,32 milhão aos demais produtores.\\n\\nNo ano passado, as taxas anuais eram de 7,75% para uma carta de crédito de R$ 710 mil e de 8,75% para R$ 1,2 milhão em financiamento.\\n\\nApós a cerimônia no interior de São Paulo, o presidente da República volta para cumprir compromissos em Brasília (DF).\\n\\nParticipação no mercado externo\\n\\n Em seu discurso, o ministro interino da Agricultura, Pecuária e Abastecimento, Eumar Novacki, defendeu o bom momento do agronegócio brasileiro e o foco nos investimentos em território nacional para \"mitigar\" um legado deixado com mais de 12 milhões de desempregados.\\n\\nEle destacou que um em cada três brasileiros trabalha no agronegócio e que o governo tem a pretensão de elevar a participação do setor de 5% para 10% no mercado internacional em cinco anos.\\n\\n\"Não vamos aceitar a pecha de que produzimos mal, seja no Brasil, seja no mundo”, disse o representante da Agricultura no IAC, localizado onde também é realizado anualmente a Agrishow, maior feira de agronegócio do país.'"
      ]
     },
     "execution_count": 182,
     "metadata": {},
     "output_type": "execute_result"
    }
   ],
   "source": [
    "dados_noticias.loc[0, 'texto']"
   ]
  },
  {
   "cell_type": "markdown",
   "metadata": {},
   "source": [
    "# Pré-processamento"
   ]
  },
  {
   "cell_type": "markdown",
   "metadata": {},
   "source": [
    "<p style=\"color:blue\">Removendo todo e qualquer caracter que não seja latino</p>"
   ]
  },
  {
   "cell_type": "code",
   "execution_count": 225,
   "metadata": {},
   "outputs": [],
   "source": [
    "import regex # trabalhar com expressões regulares\n",
    "dados_noticias['texto'] = dados_noticias['texto'].apply(lambda x: regex.sub('[^\\p{Latin}]', u' ', str(x)))"
   ]
  },
  {
   "cell_type": "code",
   "execution_count": 226,
   "metadata": {},
   "outputs": [
    {
     "data": {
      "text/plain": [
       "'O presidente Michel Temer  PMDB  e o ministro interino da Agricultura  Eumar Novacki  confirmaram nesta quinta feira      a liberação de um pré custeio de R     bilhões para beneficiar produtores rurais na safra             O valor da linha de crédito  que já tinha sido antecipado à imprensa esta semana  é       superior ao anunciado no período anterior  quando foram concedidos R     bilhões  A taxa de juros  no entanto  também é maior em relação ao que foi concedido um ano antes  ainda no governo Dilma Rousseff  e chega a      ao ano    A agricultura e o agronegócio vão tão bem  são tão sustentadores do país  que só precisa de financiamento  É o que estamos fazendo nesse momento   afirmou Temer durante evento no Instituto Agronômico de Campinas  IAC   em Ribeirão Preto  SP    Diante de autoridades como o governador de São Paulo  Geraldo Alckmin  PSDB   ele também falou que o  está começando a sair da recessão    Durante o anúncio  um grupo de    manifestantes do Movimento dos Trabalhadores Rurais Sem Terra  MST  fez um protesto  mas não houve tumulto   Pré custeio   Viabilizado por meio de uma linha de crédito do Banco do Brasil  o pré custeio  que antecede o Plano Safra            previsto para ser lançado em maio  visa auxiliar produtores no planejamento e na aquisição de insumos como máquinas  sementes  fertilizantes e pesticidas no início deste ano  Projeção do IBGE aponta uma produção de       milhões de toneladas de grãos em       o que representa uma alta de       em relação ao ano passado   Os juros anunciados pela União serão de      ao ano para um crédito de até R      mil por meio do Programa Nacional de Apoio aos Médios Produtores Rurais  Pronamp  e de      para a obtenção de até R       milhão aos demais produtores   No ano passado  as taxas anuais eram de       para uma carta de crédito de R      mil e de       para R      milhão em financiamento   Após a cerimônia no interior de São Paulo  o presidente da República volta para cumprir compromissos em Brasília  DF    Participação no mercado externo   Em seu discurso  o ministro interino da Agricultura  Pecuária e Abastecimento  Eumar Novacki  defendeu o bom momento do agronegócio brasileiro e o foco nos investimentos em território nacional para  mitigar  um legado deixado com mais de    milhões de desempregados   Ele destacou que um em cada três brasileiros trabalha no agronegócio e que o governo tem a pretensão de elevar a participação do setor de    para     no mercado internacional em cinco anos    Não vamos aceitar a pecha de que produzimos mal  seja no Brasil  seja no mundo   disse o representante da Agricultura no IAC  localizado onde também é realizado anualmente a Agrishow  maior feira de agronegócio do país '"
      ]
     },
     "execution_count": 226,
     "metadata": {},
     "output_type": "execute_result"
    }
   ],
   "source": [
    "dados_noticias.loc[0, 'texto']"
   ]
  },
  {
   "cell_type": "markdown",
   "metadata": {},
   "source": [
    "<p style=\"color:blue\">Colocando todos os textos para minúsculo</p>"
   ]
  },
  {
   "cell_type": "code",
   "execution_count": 227,
   "metadata": {},
   "outputs": [],
   "source": [
    "dados_noticias['texto'] = dados_noticias['texto'].apply(lambda x: str(x).lower())"
   ]
  },
  {
   "cell_type": "code",
   "execution_count": 228,
   "metadata": {},
   "outputs": [
    {
     "data": {
      "text/plain": [
       "'o presidente michel temer  pmdb  e o ministro interino da agricultura  eumar novacki  confirmaram nesta quinta feira      a liberação de um pré custeio de r     bilhões para beneficiar produtores rurais na safra             o valor da linha de crédito  que já tinha sido antecipado à imprensa esta semana  é       superior ao anunciado no período anterior  quando foram concedidos r     bilhões  a taxa de juros  no entanto  também é maior em relação ao que foi concedido um ano antes  ainda no governo dilma rousseff  e chega a      ao ano    a agricultura e o agronegócio vão tão bem  são tão sustentadores do país  que só precisa de financiamento  é o que estamos fazendo nesse momento   afirmou temer durante evento no instituto agronômico de campinas  iac   em ribeirão preto  sp    diante de autoridades como o governador de são paulo  geraldo alckmin  psdb   ele também falou que o  está começando a sair da recessão    durante o anúncio  um grupo de    manifestantes do movimento dos trabalhadores rurais sem terra  mst  fez um protesto  mas não houve tumulto   pré custeio   viabilizado por meio de uma linha de crédito do banco do brasil  o pré custeio  que antecede o plano safra            previsto para ser lançado em maio  visa auxiliar produtores no planejamento e na aquisição de insumos como máquinas  sementes  fertilizantes e pesticidas no início deste ano  projeção do ibge aponta uma produção de       milhões de toneladas de grãos em       o que representa uma alta de       em relação ao ano passado   os juros anunciados pela união serão de      ao ano para um crédito de até r      mil por meio do programa nacional de apoio aos médios produtores rurais  pronamp  e de      para a obtenção de até r       milhão aos demais produtores   no ano passado  as taxas anuais eram de       para uma carta de crédito de r      mil e de       para r      milhão em financiamento   após a cerimônia no interior de são paulo  o presidente da república volta para cumprir compromissos em brasília  df    participação no mercado externo   em seu discurso  o ministro interino da agricultura  pecuária e abastecimento  eumar novacki  defendeu o bom momento do agronegócio brasileiro e o foco nos investimentos em território nacional para  mitigar  um legado deixado com mais de    milhões de desempregados   ele destacou que um em cada três brasileiros trabalha no agronegócio e que o governo tem a pretensão de elevar a participação do setor de    para     no mercado internacional em cinco anos    não vamos aceitar a pecha de que produzimos mal  seja no brasil  seja no mundo   disse o representante da agricultura no iac  localizado onde também é realizado anualmente a agrishow  maior feira de agronegócio do país '"
      ]
     },
     "execution_count": 228,
     "metadata": {},
     "output_type": "execute_result"
    }
   ],
   "source": [
    "dados_noticias.loc[0, 'texto']"
   ]
  },
  {
   "cell_type": "markdown",
   "metadata": {},
   "source": [
    "<p style=\"color:blue\">Vamos definir uma função para remover stopwords mais facilmente no datafreme</p>"
   ]
  },
  {
   "cell_type": "code",
   "execution_count": 188,
   "metadata": {},
   "outputs": [
    {
     "name": "stderr",
     "output_type": "stream",
     "text": [
      "[nltk_data] Downloading package stopwords to\n",
      "[nltk_data]     C:\\Users\\Gabriel\\AppData\\Roaming\\nltk_data...\n",
      "[nltk_data]   Package stopwords is already up-to-date!\n"
     ]
    }
   ],
   "source": [
    "import nltk #caso não funcione, adicione a linha nltk.download('punkt')\n",
    "from nltk.corpus import stopwords\n",
    "from nltk.tokenize import word_tokenize\n",
    "nltk.download('stopwords')\n",
    "\n",
    "def remove_stopwords(texto):\n",
    "    stops_list = stopwords.words(\"portuguese\")\n",
    "    word_tokens = word_tokenize(texto)\n",
    "    texto_sem_stops = [w for w in word_tokens if w not in stops_list]\n",
    "    return \" \".join(texto_sem_stops)"
   ]
  },
  {
   "cell_type": "markdown",
   "metadata": {},
   "source": [
    "<p style=\"color:blue\">Vamos remover stopwords usando a função definida acima</p>"
   ]
  },
  {
   "cell_type": "code",
   "execution_count": 229,
   "metadata": {},
   "outputs": [],
   "source": [
    "dados_noticias['texto'] = dados_noticias['texto'].apply(remove_stopwords)"
   ]
  },
  {
   "cell_type": "code",
   "execution_count": 230,
   "metadata": {},
   "outputs": [
    {
     "data": {
      "text/plain": [
       "'presidente michel temer pmdb ministro interino agricultura eumar novacki confirmaram nesta quinta feira liberação pré custeio r bilhões beneficiar produtores rurais safra valor linha crédito sido antecipado imprensa semana superior anunciado período anterior concedidos r bilhões taxa juros entanto maior relação concedido ano antes ainda governo dilma rousseff chega ano agricultura agronegócio vão tão bem tão sustentadores país precisa financiamento fazendo nesse momento afirmou temer durante evento instituto agronômico campinas iac ribeirão preto sp diante autoridades governador paulo geraldo alckmin psdb falou começando sair recessão durante anúncio grupo manifestantes movimento trabalhadores rurais terra mst fez protesto tumulto pré custeio viabilizado meio linha crédito banco brasil pré custeio antecede plano safra previsto ser lançado maio visa auxiliar produtores planejamento aquisição insumos máquinas sementes fertilizantes pesticidas início deste ano projeção ibge aponta produção milhões toneladas grãos representa alta relação ano passado juros anunciados união ano crédito r mil meio programa nacional apoio médios produtores rurais pronamp obtenção r milhão demais produtores ano passado taxas anuais carta crédito r mil r milhão financiamento após cerimônia interior paulo presidente república volta cumprir compromissos brasília df participação mercado externo discurso ministro interino agricultura pecuária abastecimento eumar novacki defendeu bom momento agronegócio brasileiro foco investimentos território nacional mitigar legado deixado milhões desempregados destacou cada três brasileiros trabalha agronegócio governo pretensão elevar participação setor mercado internacional cinco anos vamos aceitar pecha produzimos mal brasil mundo disse representante agricultura iac localizado onde realizado anualmente agrishow maior feira agronegócio país'"
      ]
     },
     "execution_count": 230,
     "metadata": {},
     "output_type": "execute_result"
    }
   ],
   "source": [
    "dados_noticias.loc[0, 'texto']"
   ]
  },
  {
   "cell_type": "markdown",
   "metadata": {},
   "source": [
    "# Extração da features (representação de texto em formato vetorial)"
   ]
  },
  {
   "cell_type": "markdown",
   "metadata": {},
   "source": [
    "<p style=\"color:blue\">A seguir, faremos a instanciação do método que fará a representação do texto usando o modelo Bag of Words visto em aula.</p> "
   ]
  },
  {
   "cell_type": "code",
   "execution_count": 231,
   "metadata": {},
   "outputs": [],
   "source": [
    "from sklearn.feature_extraction.text import CountVectorizer\n",
    "vectorizer = CountVectorizer()"
   ]
  },
  {
   "cell_type": "code",
   "execution_count": 232,
   "metadata": {},
   "outputs": [],
   "source": [
    "BoW_matriz = vectorizer.fit_transform(dados_noticias['texto'])"
   ]
  },
  {
   "cell_type": "code",
   "execution_count": 233,
   "metadata": {},
   "outputs": [
    {
     "data": {
      "text/html": [
       "<div>\n",
       "<style scoped>\n",
       "    .dataframe tbody tr th:only-of-type {\n",
       "        vertical-align: middle;\n",
       "    }\n",
       "\n",
       "    .dataframe tbody tr th {\n",
       "        vertical-align: top;\n",
       "    }\n",
       "\n",
       "    .dataframe thead th {\n",
       "        text-align: right;\n",
       "    }\n",
       "</style>\n",
       "<table border=\"1\" class=\"dataframe\">\n",
       "  <thead>\n",
       "    <tr style=\"text-align: right;\">\n",
       "      <th></th>\n",
       "      <th>ab</th>\n",
       "      <th>abacate</th>\n",
       "      <th>abaixo</th>\n",
       "      <th>abal</th>\n",
       "      <th>abala</th>\n",
       "      <th>abalar</th>\n",
       "      <th>abandona</th>\n",
       "      <th>abandonado</th>\n",
       "      <th>abandonar</th>\n",
       "      <th>abandonou</th>\n",
       "      <th>...</th>\n",
       "      <th>úmido</th>\n",
       "      <th>única</th>\n",
       "      <th>únicas</th>\n",
       "      <th>único</th>\n",
       "      <th>únicos</th>\n",
       "      <th>úteis</th>\n",
       "      <th>útero</th>\n",
       "      <th>útil</th>\n",
       "      <th>útlima</th>\n",
       "      <th>útlimo</th>\n",
       "    </tr>\n",
       "  </thead>\n",
       "  <tbody>\n",
       "    <tr>\n",
       "      <th>0</th>\n",
       "      <td>0</td>\n",
       "      <td>0</td>\n",
       "      <td>0</td>\n",
       "      <td>0</td>\n",
       "      <td>0</td>\n",
       "      <td>0</td>\n",
       "      <td>0</td>\n",
       "      <td>0</td>\n",
       "      <td>0</td>\n",
       "      <td>0</td>\n",
       "      <td>...</td>\n",
       "      <td>0</td>\n",
       "      <td>0</td>\n",
       "      <td>0</td>\n",
       "      <td>0</td>\n",
       "      <td>0</td>\n",
       "      <td>0</td>\n",
       "      <td>0</td>\n",
       "      <td>0</td>\n",
       "      <td>0</td>\n",
       "      <td>0</td>\n",
       "    </tr>\n",
       "    <tr>\n",
       "      <th>1</th>\n",
       "      <td>0</td>\n",
       "      <td>0</td>\n",
       "      <td>0</td>\n",
       "      <td>0</td>\n",
       "      <td>0</td>\n",
       "      <td>0</td>\n",
       "      <td>0</td>\n",
       "      <td>0</td>\n",
       "      <td>0</td>\n",
       "      <td>0</td>\n",
       "      <td>...</td>\n",
       "      <td>0</td>\n",
       "      <td>0</td>\n",
       "      <td>0</td>\n",
       "      <td>0</td>\n",
       "      <td>0</td>\n",
       "      <td>0</td>\n",
       "      <td>0</td>\n",
       "      <td>0</td>\n",
       "      <td>0</td>\n",
       "      <td>0</td>\n",
       "    </tr>\n",
       "    <tr>\n",
       "      <th>2</th>\n",
       "      <td>0</td>\n",
       "      <td>0</td>\n",
       "      <td>0</td>\n",
       "      <td>0</td>\n",
       "      <td>0</td>\n",
       "      <td>0</td>\n",
       "      <td>0</td>\n",
       "      <td>0</td>\n",
       "      <td>0</td>\n",
       "      <td>0</td>\n",
       "      <td>...</td>\n",
       "      <td>0</td>\n",
       "      <td>0</td>\n",
       "      <td>0</td>\n",
       "      <td>0</td>\n",
       "      <td>0</td>\n",
       "      <td>0</td>\n",
       "      <td>0</td>\n",
       "      <td>0</td>\n",
       "      <td>0</td>\n",
       "      <td>0</td>\n",
       "    </tr>\n",
       "    <tr>\n",
       "      <th>3</th>\n",
       "      <td>0</td>\n",
       "      <td>0</td>\n",
       "      <td>1</td>\n",
       "      <td>0</td>\n",
       "      <td>0</td>\n",
       "      <td>0</td>\n",
       "      <td>0</td>\n",
       "      <td>0</td>\n",
       "      <td>0</td>\n",
       "      <td>0</td>\n",
       "      <td>...</td>\n",
       "      <td>0</td>\n",
       "      <td>0</td>\n",
       "      <td>0</td>\n",
       "      <td>0</td>\n",
       "      <td>0</td>\n",
       "      <td>0</td>\n",
       "      <td>0</td>\n",
       "      <td>0</td>\n",
       "      <td>0</td>\n",
       "      <td>0</td>\n",
       "    </tr>\n",
       "    <tr>\n",
       "      <th>4</th>\n",
       "      <td>0</td>\n",
       "      <td>0</td>\n",
       "      <td>0</td>\n",
       "      <td>0</td>\n",
       "      <td>0</td>\n",
       "      <td>0</td>\n",
       "      <td>0</td>\n",
       "      <td>0</td>\n",
       "      <td>0</td>\n",
       "      <td>0</td>\n",
       "      <td>...</td>\n",
       "      <td>0</td>\n",
       "      <td>0</td>\n",
       "      <td>0</td>\n",
       "      <td>0</td>\n",
       "      <td>0</td>\n",
       "      <td>0</td>\n",
       "      <td>0</td>\n",
       "      <td>0</td>\n",
       "      <td>0</td>\n",
       "      <td>0</td>\n",
       "    </tr>\n",
       "    <tr>\n",
       "      <th>...</th>\n",
       "      <td>...</td>\n",
       "      <td>...</td>\n",
       "      <td>...</td>\n",
       "      <td>...</td>\n",
       "      <td>...</td>\n",
       "      <td>...</td>\n",
       "      <td>...</td>\n",
       "      <td>...</td>\n",
       "      <td>...</td>\n",
       "      <td>...</td>\n",
       "      <td>...</td>\n",
       "      <td>...</td>\n",
       "      <td>...</td>\n",
       "      <td>...</td>\n",
       "      <td>...</td>\n",
       "      <td>...</td>\n",
       "      <td>...</td>\n",
       "      <td>...</td>\n",
       "      <td>...</td>\n",
       "      <td>...</td>\n",
       "      <td>...</td>\n",
       "    </tr>\n",
       "    <tr>\n",
       "      <th>645</th>\n",
       "      <td>0</td>\n",
       "      <td>0</td>\n",
       "      <td>0</td>\n",
       "      <td>0</td>\n",
       "      <td>0</td>\n",
       "      <td>0</td>\n",
       "      <td>0</td>\n",
       "      <td>0</td>\n",
       "      <td>0</td>\n",
       "      <td>0</td>\n",
       "      <td>...</td>\n",
       "      <td>0</td>\n",
       "      <td>0</td>\n",
       "      <td>0</td>\n",
       "      <td>0</td>\n",
       "      <td>0</td>\n",
       "      <td>0</td>\n",
       "      <td>0</td>\n",
       "      <td>0</td>\n",
       "      <td>0</td>\n",
       "      <td>0</td>\n",
       "    </tr>\n",
       "    <tr>\n",
       "      <th>646</th>\n",
       "      <td>0</td>\n",
       "      <td>0</td>\n",
       "      <td>1</td>\n",
       "      <td>0</td>\n",
       "      <td>0</td>\n",
       "      <td>0</td>\n",
       "      <td>0</td>\n",
       "      <td>0</td>\n",
       "      <td>0</td>\n",
       "      <td>0</td>\n",
       "      <td>...</td>\n",
       "      <td>0</td>\n",
       "      <td>0</td>\n",
       "      <td>0</td>\n",
       "      <td>0</td>\n",
       "      <td>0</td>\n",
       "      <td>0</td>\n",
       "      <td>0</td>\n",
       "      <td>0</td>\n",
       "      <td>0</td>\n",
       "      <td>0</td>\n",
       "    </tr>\n",
       "    <tr>\n",
       "      <th>647</th>\n",
       "      <td>0</td>\n",
       "      <td>0</td>\n",
       "      <td>0</td>\n",
       "      <td>0</td>\n",
       "      <td>0</td>\n",
       "      <td>0</td>\n",
       "      <td>0</td>\n",
       "      <td>0</td>\n",
       "      <td>0</td>\n",
       "      <td>0</td>\n",
       "      <td>...</td>\n",
       "      <td>0</td>\n",
       "      <td>0</td>\n",
       "      <td>0</td>\n",
       "      <td>0</td>\n",
       "      <td>0</td>\n",
       "      <td>0</td>\n",
       "      <td>0</td>\n",
       "      <td>0</td>\n",
       "      <td>0</td>\n",
       "      <td>0</td>\n",
       "    </tr>\n",
       "    <tr>\n",
       "      <th>648</th>\n",
       "      <td>0</td>\n",
       "      <td>0</td>\n",
       "      <td>0</td>\n",
       "      <td>0</td>\n",
       "      <td>0</td>\n",
       "      <td>0</td>\n",
       "      <td>0</td>\n",
       "      <td>0</td>\n",
       "      <td>0</td>\n",
       "      <td>0</td>\n",
       "      <td>...</td>\n",
       "      <td>0</td>\n",
       "      <td>0</td>\n",
       "      <td>0</td>\n",
       "      <td>0</td>\n",
       "      <td>0</td>\n",
       "      <td>0</td>\n",
       "      <td>0</td>\n",
       "      <td>0</td>\n",
       "      <td>0</td>\n",
       "      <td>0</td>\n",
       "    </tr>\n",
       "    <tr>\n",
       "      <th>649</th>\n",
       "      <td>0</td>\n",
       "      <td>0</td>\n",
       "      <td>0</td>\n",
       "      <td>0</td>\n",
       "      <td>0</td>\n",
       "      <td>0</td>\n",
       "      <td>0</td>\n",
       "      <td>0</td>\n",
       "      <td>0</td>\n",
       "      <td>0</td>\n",
       "      <td>...</td>\n",
       "      <td>0</td>\n",
       "      <td>0</td>\n",
       "      <td>0</td>\n",
       "      <td>0</td>\n",
       "      <td>0</td>\n",
       "      <td>1</td>\n",
       "      <td>0</td>\n",
       "      <td>0</td>\n",
       "      <td>0</td>\n",
       "      <td>0</td>\n",
       "    </tr>\n",
       "  </tbody>\n",
       "</table>\n",
       "<p>650 rows × 19257 columns</p>\n",
       "</div>"
      ],
      "text/plain": [
       "     ab  abacate  abaixo  abal  abala  abalar  abandona  abandonado  \\\n",
       "0     0        0       0     0      0       0         0           0   \n",
       "1     0        0       0     0      0       0         0           0   \n",
       "2     0        0       0     0      0       0         0           0   \n",
       "3     0        0       1     0      0       0         0           0   \n",
       "4     0        0       0     0      0       0         0           0   \n",
       "..   ..      ...     ...   ...    ...     ...       ...         ...   \n",
       "645   0        0       0     0      0       0         0           0   \n",
       "646   0        0       1     0      0       0         0           0   \n",
       "647   0        0       0     0      0       0         0           0   \n",
       "648   0        0       0     0      0       0         0           0   \n",
       "649   0        0       0     0      0       0         0           0   \n",
       "\n",
       "     abandonar  abandonou  ...  úmido  única  únicas  único  únicos  úteis  \\\n",
       "0            0          0  ...      0      0       0      0       0      0   \n",
       "1            0          0  ...      0      0       0      0       0      0   \n",
       "2            0          0  ...      0      0       0      0       0      0   \n",
       "3            0          0  ...      0      0       0      0       0      0   \n",
       "4            0          0  ...      0      0       0      0       0      0   \n",
       "..         ...        ...  ...    ...    ...     ...    ...     ...    ...   \n",
       "645          0          0  ...      0      0       0      0       0      0   \n",
       "646          0          0  ...      0      0       0      0       0      0   \n",
       "647          0          0  ...      0      0       0      0       0      0   \n",
       "648          0          0  ...      0      0       0      0       0      0   \n",
       "649          0          0  ...      0      0       0      0       0      1   \n",
       "\n",
       "     útero  útil  útlima  útlimo  \n",
       "0        0     0       0       0  \n",
       "1        0     0       0       0  \n",
       "2        0     0       0       0  \n",
       "3        0     0       0       0  \n",
       "4        0     0       0       0  \n",
       "..     ...   ...     ...     ...  \n",
       "645      0     0       0       0  \n",
       "646      0     0       0       0  \n",
       "647      0     0       0       0  \n",
       "648      0     0       0       0  \n",
       "649      0     0       0       0  \n",
       "\n",
       "[650 rows x 19257 columns]"
      ]
     },
     "execution_count": 233,
     "metadata": {},
     "output_type": "execute_result"
    }
   ],
   "source": [
    "BOW_dataframe=pd.DataFrame(BoW_matriz.toarray(),columns=vectorizer.get_feature_names())\n",
    "BOW_dataframe"
   ]
  },
  {
   "cell_type": "markdown",
   "metadata": {},
   "source": [
    "# Treinamento e teste"
   ]
  },
  {
   "cell_type": "markdown",
   "metadata": {},
   "source": [
    "<p style=\"color:blue\">Aqui vamos estimar a performance do classificador utilizando uma subdivisão nos dados. Vamos dividir os dados (BOW_dataframe) em um conjunto de teste e outro treinamento. </p>"
   ]
  },
  {
   "cell_type": "code",
   "execution_count": 234,
   "metadata": {},
   "outputs": [],
   "source": [
    "textos_bow = BOW_dataframe\n",
    "categorias = dados_noticias['categ'] # as categorias devem estar separadas dos dados de treinamento "
   ]
  },
  {
   "cell_type": "code",
   "execution_count": 235,
   "metadata": {},
   "outputs": [],
   "source": [
    "from sklearn.model_selection import train_test_split\n",
    "\n",
    "X_train, X_test, y_train, y_test = train_test_split(textos_bow, categorias, test_size=0.2) #20% para teste.\n",
    "\n",
    "# X_train contém os 80% dos dados - treinamento\n",
    "# y_train contém os 80% das categorias (atributo alvo) - treinamento\n",
    "\n",
    "# X_test contém os 20% dos dados - teste\n",
    "# y_test contém os 20% das categorias - teste"
   ]
  },
  {
   "cell_type": "code",
   "execution_count": 236,
   "metadata": {},
   "outputs": [],
   "source": [
    "from sklearn.naive_bayes import MultinomialNB\n",
    "naive_bayes = MultinomialNB()\n",
    "naive_bayes.fit(X_train, y_train)\n",
    "predicoes = naive_bayes.predict(X_test) # recebe os 20% dos dados de teste sem as categorias - \"escondidas\""
   ]
  },
  {
   "cell_type": "markdown",
   "metadata": {},
   "source": [
    "<p style=\"color:blue\">Como sabemos de antemão a categoria correta do conjunto de teste, vamos avaliar a performance do nosso classificador de notícias Bayesiano</p>"
   ]
  },
  {
   "cell_type": "code",
   "execution_count": 237,
   "metadata": {},
   "outputs": [
    {
     "name": "stdout",
     "output_type": "stream",
     "text": [
      "                 precision    recall  f1-score   support\n",
      "\n",
      "           agro       0.88      0.88      0.88        16\n",
      "ciencia-e-saude       0.82      0.93      0.87        30\n",
      "       economia       0.76      0.76      0.76        25\n",
      "       educacao       0.85      0.96      0.90        23\n",
      "       politica       0.83      0.83      0.83        23\n",
      "     tecnologia       0.83      0.38      0.53        13\n",
      "\n",
      "       accuracy                           0.82       130\n",
      "      macro avg       0.83      0.79      0.79       130\n",
      "   weighted avg       0.82      0.82      0.81       130\n",
      "\n"
     ]
    }
   ],
   "source": [
    "from sklearn.metrics import classification_report\n",
    "\n",
    "print(classification_report(y_test, predicoes))\n",
    "\n",
    "# y_test contém as categorias conhecidas do conjunto de teste usado no método predict().\n",
    "# predicoes contém as categorias preditas (retornadas) pelo método predict() com base nos dados de X_test."
   ]
  },
  {
   "cell_type": "markdown",
   "metadata": {},
   "source": [
    "<p style=\"color:blue\">Vamos montar a matriz de confusão usando um mapa de valor da biblioteca Seaborn</p>"
   ]
  },
  {
   "cell_type": "code",
   "execution_count": 195,
   "metadata": {},
   "outputs": [
    {
     "data": {
      "image/png": "[encoded data removed]",
      "text/plain": [
       "<Figure size 432x288 with 1 Axes>"
      ]
     },
     "metadata": {
      "needs_background": "light"
     },
     "output_type": "display_data"
    }
   ],
   "source": [
    "from sklearn.metrics import confusion_matrix\n",
    "import matplotlib.pyplot as plt\n",
    "import seaborn as sns\n",
    "\n",
    "cm = confusion_matrix(y_test, predicoes)\n",
    "sns.heatmap(cm, square=True, annot=True, cmap='RdBu', cbar=False, \n",
    "            xticklabels=categorias.unique(),\n",
    "            yticklabels=categorias.unique())\n",
    "\n",
    "plt.xlabel(\"Classe real\")\n",
    "plt.ylabel(\"Classe predita\")\n",
    "plt.show()\n"
   ]
  },
  {
   "cell_type": "markdown",
   "metadata": {},
   "source": [
    "# Teste para uma notícia nova\n",
    "\n",
    "<p style=\"color: blue\">Vamos supor que o classificador acima seja o melhor de todos, isto é, você fez vários testes de pré-processamento e testou diferentes formas de representação de texto (features). Tendo isso em vista, agora vem a parte legal que é testar esse classificador em notícias diferentes de qualquer uma existente na base de treinamento. \n",
    "Porém, antes disso, precisamos treinar o classificador em toda a base de notícias que montamos anteriormente. Isso porque nos testes de performance, separamos os dados em treino e teste com a intenção de simular o comportamento do algoritmo. Por isso, vamos treinar o classificador bayesiano em toda a base agora: </p>"
   ]
  },
  {
   "cell_type": "code",
   "execution_count": 214,
   "metadata": {},
   "outputs": [
    {
     "data": {
      "text/plain": [
       "MultinomialNB()"
      ]
     },
     "execution_count": 214,
     "metadata": {},
     "output_type": "execute_result"
    }
   ],
   "source": [
    "naive_bayes = MultinomialNB()\n",
    "naive_bayes.fit(textos_bow, categorias)"
   ]
  },
  {
   "cell_type": "markdown",
   "metadata": {},
   "source": [
    "<p style=\"color: blue\">Agora que treinamos o classificador Bayesiano em toda a base, vamos pegar uma notícia totalmente nova do portal G1 cuja categoria exista na nossa base. Lembre-se, nosso modelo classifica em seis categorias distintas:  </p>\n",
    "    <ul>\n",
    "        <li>agro\n",
    "        <li>ciencia e saude\n",
    "        <li>economia\n",
    "        <li>educacao\n",
    "        <li>politica\n",
    "        <li>tecnologia\n",
    "    </ul>\n",
    " \n",
    " <p style=\"color: blue\"> Peguei um notícia da categoria \"Economia\" e quero ver se o modelo acerta. Através do link da notícia, raspei o texto da web usando o Goose.</p>"
   ]
  },
  {
   "cell_type": "code",
   "execution_count": 1,
   "metadata": {},
   "outputs": [
    {
     "data": {
      "text/plain": [
       "'Segundo o órgão, foram entregues 36.868.780 declarações este ano. Destas, 869.302 declarações foram retidas em malha – 2,4% do total de documentos entregues.\\n\\nEntre as declarações retidas, 666.647 são declarações com imposto a restituir; 181.992 com imposto a pagar, e 20.663 com saldo zero.\\n\\nComo saber se você está na malha fina?\\n\\nAo realizar a consulta, será informado se há ou não pendências que impeçam o pagamento da restituição, ou seja, se ele caiu na chamada \"malha fina\" do leão.\\n\\nPara saber se está na malha fina, os contribuintes também podem acessar o \"extrato\" do Imposto de Renda no site da Receita Federal no chamado e-CAC (Centro Virtual de Atendimento).\\n\\nPara acessar o extrato do IR é necessário utilizar o código de acesso gerado na própria página da Receita Federal, ou certificado digital emitido por autoridade habilitada.\\n\\nAs restituições de declarações que apresentam inconsistência (em situação de malha) são liberadas apenas depois de corrigidas pelo cidadão, ou após o contribuinte apresentar comprovação de que sua declaração está correta.\\n\\na) Corrigir a Declaração apresentada, sem qualquer multa ou penalidade, por meio de Declaração retificadora, se houver erros no que foi declarado à Receita Federal. Essa correção não será possível depois que o contribuinte for intimado ou notificado;\\n\\nc) Apresentar, de forma virtual, todos os comprovantes e documentos que atestam os valores declarados e apontados como pendência no Extrato. Para apresentar os documentos, é necessário verificar atentamente as orientações do Extrato do Processamento da DIRPF e formalizar um Processo Digital para a Malha Fiscal por meio do Portal e-CAC. Para informações sobre o Processo Digital da Malha Fiscal, consultar Malha Fiscal - Atendimento, a partir do espaço Onde Encontro.\\n\\n\"A apresentação dos documentos, neste caso, é de inteira responsabilidade do contribuinte, que poderá ainda assim ser intimado ou receber uma notificação de lançamento da Receita Federal\", informa o fisco.'"
      ]
     },
     "execution_count": 1,
     "metadata": {},
     "output_type": "execute_result"
    }
   ],
   "source": [
    "categoria_real = 'economia' # observe que a categoria está visível no próprio link\n",
    "link = 'https://g1.globo.com/economia/imposto-de-renda/2021/noticia/2021/09/30/ir-2021-869302-contribuintes-cairam-na-malha-fina-veja-o-que-fazer-se-voce-e-um-deles.ghtml'\n",
    "\n",
    "from goose3 import Goose # para baixar o texto da notícia\n",
    "g = Goose()\n",
    "noticia = g.extract(link)\n",
    "noticia = noticia.cleaned_text \n",
    "noticia"
   ]
  },
  {
   "cell_type": "markdown",
   "metadata": {},
   "source": [
    "<p style=\"color:blue\">Vamos agora aplicar algumas etapas de pré-processamento: retirar caracteres indesejados, passar tudo para minúsculo e remover stopwords.</p>"
   ]
  },
  {
   "cell_type": "code",
   "execution_count": 217,
   "metadata": {},
   "outputs": [],
   "source": [
    "noticia_SohTexto = regex.sub('[^\\p{Latin}]', u' ', noticia)\n",
    "noticia_lower = noticia.lower()\n",
    "noticia_semStops = remove_stopwords(noticia_lower)"
   ]
  },
  {
   "cell_type": "markdown",
   "metadata": {},
   "source": [
    "<p style=\"color:blue\">Pronto, agora precisamos representar esse texto no mesmo modelo de representação que usamos para treinar o classificador. Nesse caso, foi o BoW. Vamos usar a função transform() pertencente ao objeto vectorizer que será responsável por adequar o texto da notícia que queremos classificar à representação criada para o treinamento que construímos usando o método fit_transform. </p>"
   ]
  },
  {
   "cell_type": "code",
   "execution_count": 218,
   "metadata": {},
   "outputs": [],
   "source": [
    "# O método transform espera algum iterável, isto é, alguma estrutura de dados. Por isso, passei a notícia dentro de uma lista\n",
    "noticia_BoW = vectorizer.transform([noticia_semStops])"
   ]
  },
  {
   "cell_type": "markdown",
   "metadata": {},
   "source": [
    "<p style=\"color:blue\">Finalmente, chamamou o método predict que determinará a classe dessa notícia! </p>"
   ]
  },
  {
   "cell_type": "code",
   "execution_count": 222,
   "metadata": {},
   "outputs": [
    {
     "name": "stdout",
     "output_type": "stream",
     "text": [
      "A classe predita para essa notícia é:  ['economia']\n",
      "A classe real dessa noticia é:  economia\n"
     ]
    }
   ],
   "source": [
    "categoria_predita = naive_bayes.predict(noticia_BoW)\n",
    "print('A classe predita para essa notícia é: ', categoria_predita);\n",
    "print('A classe real dessa noticia é: ', categoria_real)"
   ]
  },
  {
   "cell_type": "markdown",
   "metadata": {},
   "source": [
    "<p style=\"color:blue\">Olha só que legal, o modelo acertou a categoria! </p>"
   ]
  }
 ],
 "metadata": {
  "colab": {
   "authorship_tag": "ABX9TyOBlJEu3xNPE5qOsrhehcIb",
   "name": "Untitled0.ipynb",
   "provenance": []
  },
  "kernelspec": {
   "display_name": "Python 3 (ipykernel)",
   "language": "python",
   "name": "python3"
  },
  "language_info": {
   "codemirror_mode": {
    "name": "ipython",
    "version": 3
   },
   "file_extension": ".py",
   "mimetype": "text/x-python",
   "name": "python",
   "nbconvert_exporter": "python",
   "pygments_lexer": "ipython3",
   "version": "3.9.6"
  }
 },
 "nbformat": 4,
 "nbformat_minor": 1
}
